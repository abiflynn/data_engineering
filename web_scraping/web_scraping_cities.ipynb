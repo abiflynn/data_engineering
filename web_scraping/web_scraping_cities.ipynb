{
 "cells": [
  {
   "cell_type": "code",
   "execution_count": 1,
   "id": "c59d7a6d",
   "metadata": {},
   "outputs": [],
   "source": [
    "from bs4 import BeautifulSoup\n",
    "import requests\n",
    "import pandas as pd\n",
    "import re"
   ]
  },
  {
   "cell_type": "code",
   "execution_count": 2,
   "id": "7dd5f6e1",
   "metadata": {},
   "outputs": [],
   "source": [
    "def recreate_wiki(cities):\n",
    "  # empty list that will be filled with one dictionary of information per city\n",
    "  list_for_df = []\n",
    "  \n",
    "  # begin a for loop to create a dictionary of information for each city\n",
    "  for city in cities:\n",
    "    # we can use the universal nature of wikipedias urls to our advantage here\n",
    "    # all of the urls are the same besides the city name\n",
    "    url = f'https://en.wikipedia.org/wiki/{city}'\n",
    "\n",
    "    # here we make our soup for the city\n",
    "    r = requests.get(url)\n",
    "    soup = BeautifulSoup(r.content, 'html.parser')\n",
    "\n",
    "    # here we initialise our empty dictionary for the city\n",
    "    response_dict = {}\n",
    "\n",
    "    # here we fill the dictionary with information using the ids, classes, and selectors that we found in the html\n",
    "    response_dict['city'] = soup.select(\".firstHeading\")[0].get_text()\n",
    "    response_dict['country'] = soup.select(\".infobox-data\")[0].get_text()\n",
    "    response_dict['latitude'] = soup.select(\".latitude\")[0].get_text()\n",
    "    response_dict['longitude'] = soup.select(\".longitude\")[0].get_text()\n",
    "    # not all of the wikipedia pages contain elevation, look at Hamburg\n",
    "    # the if clause means that our code can continue and won't stop at this hurdle\n",
    "    if soup.select_one('.infobox-label:-soup-contains(\"Elevation\")'):\n",
    "      response_dict['elevation'] = soup.select_one('.infobox-label:-soup-contains(\"Elevation\")').find_next(class_='infobox-data').get_text()\n",
    "    response_dict['website'] = soup.select_one('.infobox-label:-soup-contains(\"Website\")').find_next(class_='infobox-data').get_text()\n",
    "    if soup.select_one('th.infobox-header:-soup-contains(\"Population\")'):\n",
    "        response_dict['population'] = soup.select_one('th.infobox-header:-soup-contains(\"Population\")').parent.find_next_sibling().find(text=re.compile(r'\\d+'))\n",
    "    \n",
    "    # add our dictionary for the city to list_for_df\n",
    "    list_for_df.append(response_dict)\n",
    "  \n",
    "  # make the DataFrame\n",
    "  cities_df = pd.DataFrame(list_for_df)\n",
    "\n",
    "  # fixing latitude\n",
    "  cities_df['latitude'] = cities_df['latitude'].str.split('″').str[0].str.replace('°', '.', regex=False).str.replace('′', '', regex=False)\n",
    "  # fixing longitude\n",
    "  cities_df['longitude'] = cities_df['longitude'].str.split('″').str[0].str.replace('°', '.', regex=False).str.replace('′', '', regex=False)\n",
    "  # fixing elevation\n",
    "  cities_df.insert(4, 'elevation_in_meters', cities_df['elevation'].str.split('m').str[0].str.strip())\n",
    "\n",
    "  # return the DataFrame\n",
    "  return cities_df"
   ]
  },
  {
   "cell_type": "code",
   "execution_count": 3,
   "id": "465aaa67",
   "metadata": {},
   "outputs": [],
   "source": [
    "list_of_cities = ['Berlin', 'Hamburg', 'London', 'Manchester', 'Barcelona']\n",
    "cities_df = recreate_wiki(list_of_cities)"
   ]
  },
  {
   "cell_type": "code",
   "execution_count": 4,
   "id": "181523c9",
   "metadata": {},
   "outputs": [
    {
     "data": {
      "text/html": [
       "<div>\n",
       "<style scoped>\n",
       "    .dataframe tbody tr th:only-of-type {\n",
       "        vertical-align: middle;\n",
       "    }\n",
       "\n",
       "    .dataframe tbody tr th {\n",
       "        vertical-align: top;\n",
       "    }\n",
       "\n",
       "    .dataframe thead th {\n",
       "        text-align: right;\n",
       "    }\n",
       "</style>\n",
       "<table border=\"1\" class=\"dataframe\">\n",
       "  <thead>\n",
       "    <tr style=\"text-align: right;\">\n",
       "      <th></th>\n",
       "      <th>city</th>\n",
       "      <th>country</th>\n",
       "      <th>latitude</th>\n",
       "      <th>longitude</th>\n",
       "      <th>elevation_in_meters</th>\n",
       "      <th>elevation</th>\n",
       "      <th>website</th>\n",
       "      <th>population</th>\n",
       "    </tr>\n",
       "  </thead>\n",
       "  <tbody>\n",
       "    <tr>\n",
       "      <th>0</th>\n",
       "      <td>Berlin</td>\n",
       "      <td>Germany</td>\n",
       "      <td>52.3112</td>\n",
       "      <td>13.2418</td>\n",
       "      <td>34</td>\n",
       "      <td>34 m (112 ft)</td>\n",
       "      <td>berlin.de</td>\n",
       "      <td>3,677,472</td>\n",
       "    </tr>\n",
       "    <tr>\n",
       "      <th>1</th>\n",
       "      <td>Hamburg</td>\n",
       "      <td>Germany</td>\n",
       "      <td>53.33N</td>\n",
       "      <td>10.00E</td>\n",
       "      <td>NaN</td>\n",
       "      <td>NaN</td>\n",
       "      <td>www.hamburg.de/stadt-staat/</td>\n",
       "      <td>1,906,411</td>\n",
       "    </tr>\n",
       "    <tr>\n",
       "      <th>2</th>\n",
       "      <td>London</td>\n",
       "      <td>United Kingdom</td>\n",
       "      <td>51.3026</td>\n",
       "      <td>0.739</td>\n",
       "      <td>36 ft (11</td>\n",
       "      <td>36 ft (11 m)</td>\n",
       "      <td>www.london.gov.uk</td>\n",
       "      <td>8,799,800</td>\n",
       "    </tr>\n",
       "    <tr>\n",
       "      <th>3</th>\n",
       "      <td>Manchester</td>\n",
       "      <td>United Kingdom</td>\n",
       "      <td>53.2846</td>\n",
       "      <td>2.1443</td>\n",
       "      <td>38</td>\n",
       "      <td>38 m (125 ft)</td>\n",
       "      <td>manchester.gov.uk</td>\n",
       "      <td>551,938</td>\n",
       "    </tr>\n",
       "    <tr>\n",
       "      <th>4</th>\n",
       "      <td>Barcelona</td>\n",
       "      <td>Spain</td>\n",
       "      <td>41.23N</td>\n",
       "      <td>2.11E</td>\n",
       "      <td>12</td>\n",
       "      <td>12 m (39 ft)</td>\n",
       "      <td>www.barcelona.cat</td>\n",
       "      <td>1,620,343</td>\n",
       "    </tr>\n",
       "  </tbody>\n",
       "</table>\n",
       "</div>"
      ],
      "text/plain": [
       "         city          country latitude longitude elevation_in_meters  \\\n",
       "0      Berlin          Germany  52.3112   13.2418                  34   \n",
       "1     Hamburg          Germany   53.33N    10.00E                 NaN   \n",
       "2      London   United Kingdom  51.3026     0.739           36 ft (11   \n",
       "3  Manchester   United Kingdom  53.2846    2.1443                  38   \n",
       "4   Barcelona            Spain   41.23N     2.11E                  12   \n",
       "\n",
       "       elevation                       website population  \n",
       "0  34 m (112 ft)                     berlin.de  3,677,472  \n",
       "1            NaN  www.hamburg.de/stadt-staat/   1,906,411  \n",
       "2   36 ft (11 m)            www.london.gov.uk   8,799,800  \n",
       "3  38 m (125 ft)             manchester.gov.uk    551,938  \n",
       "4   12 m (39 ft)            www.barcelona.cat   1,620,343  "
      ]
     },
     "execution_count": 4,
     "metadata": {},
     "output_type": "execute_result"
    }
   ],
   "source": [
    "cities_df"
   ]
  },
  {
   "cell_type": "code",
   "execution_count": 5,
   "id": "80e3a781",
   "metadata": {},
   "outputs": [
    {
     "name": "stdout",
     "output_type": "stream",
     "text": [
      "Requirement already satisfied: sqlalchemy in /Users/abigailflynn/opt/anaconda3/lib/python3.9/site-packages (1.4.39)\n",
      "Requirement already satisfied: greenlet!=0.4.17 in /Users/abigailflynn/opt/anaconda3/lib/python3.9/site-packages (from sqlalchemy) (1.1.1)\n",
      "Requirement already satisfied: pymysql in /Users/abigailflynn/opt/anaconda3/lib/python3.9/site-packages (1.0.2)\n"
     ]
    }
   ],
   "source": [
    "!pip install sqlalchemy\n",
    "!pip install pymysql\n",
    "import sqlalchemy"
   ]
  },
  {
   "cell_type": "code",
   "execution_count": 8,
   "id": "b7e85f9e",
   "metadata": {},
   "outputs": [],
   "source": [
    "schema=\"project_5_database\"   # name of the database you want to use here\n",
    "host=\"wbs-project5-db.cd7fypqniwr8.eu-west-2.rds.amazonaws.com\"        # to connect to your local server\n",
    "user=\"admin\"\n",
    "password=\"Finalyear2019\" # your password!!!!\n",
    "port=3306\n",
    "con = f'mysql+pymysql://{user}:{password}@{host}:{port}/{schema}'"
   ]
  },
  {
   "cell_type": "code",
   "execution_count": 9,
   "id": "4560a093",
   "metadata": {},
   "outputs": [
    {
     "data": {
      "text/plain": [
       "5"
      ]
     },
     "execution_count": 9,
     "metadata": {},
     "output_type": "execute_result"
    }
   ],
   "source": [
    "cities_df.to_sql('cities',         # 'iss_logs'-> table name;\n",
    "              if_exists='append', # if_exists -> will create new table if doesn't exist, otherwise, 'append' - will append data to existing table;\n",
    "              con=con,            # con-> connection string;\n",
    "              index=False) "
   ]
  },
  {
   "cell_type": "code",
   "execution_count": 11,
   "id": "5c2f2e24",
   "metadata": {},
   "outputs": [],
   "source": [
    " cities_df_1 = pd.read_sql('cities', con=con)"
   ]
  },
  {
   "cell_type": "code",
   "execution_count": null,
   "id": "e7131a29",
   "metadata": {},
   "outputs": [],
   "source": [
    "schema=\"project_5_database\"  \n",
    "host=\"127.0.0.1\"      \n",
    "user=\"admin\"\n",
    "password=\"ENTER PASSWORD HERE\" \n",
    "port=3306\n",
    "con = f'mysql+pymysql://{user}:{password}@{host}:{port}/{schema}'"
   ]
  },
  {
   "cell_type": "code",
   "execution_count": null,
   "id": "83e8daac",
   "metadata": {},
   "outputs": [],
   "source": [
    "cities_df.to_sql('cities',         \n",
    "              if_exists='append', \n",
    "              con=con,            \n",
    "              index=False)"
   ]
  }
 ],
 "metadata": {
  "kernelspec": {
   "display_name": "Python 3 (ipykernel)",
   "language": "python",
   "name": "python3"
  },
  "language_info": {
   "codemirror_mode": {
    "name": "ipython",
    "version": 3
   },
   "file_extension": ".py",
   "mimetype": "text/x-python",
   "name": "python",
   "nbconvert_exporter": "python",
   "pygments_lexer": "ipython3",
   "version": "3.9.13"
  }
 },
 "nbformat": 4,
 "nbformat_minor": 5
}

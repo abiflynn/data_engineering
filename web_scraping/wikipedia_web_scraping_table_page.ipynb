{
  "cells": [
    {
      "cell_type": "markdown",
      "metadata": {
        "id": "view-in-github",
        "colab_type": "text"
      },
      "source": [
        "<a href=\"https://colab.research.google.com/github/abiflynn/data_engineering/blob/main/web_scraping/wikipedia_web_scraping_table_page.ipynb\" target=\"_parent\"><img src=\"https://colab.research.google.com/assets/colab-badge.svg\" alt=\"Open In Colab\"/></a>"
      ]
    },
    {
      "cell_type": "code",
      "execution_count": 1,
      "id": "c09c3e96",
      "metadata": {
        "id": "c09c3e96",
        "outputId": "c79c9b8b-6927-4f42-f59f-ed5134707dea",
        "colab": {
          "base_uri": "https://localhost:8080/"
        }
      },
      "outputs": [
        {
          "output_type": "stream",
          "name": "stdout",
          "text": [
            "Looking in indexes: https://pypi.org/simple, https://us-python.pkg.dev/colab-wheels/public/simple/\n",
            "Requirement already satisfied: beautifulsoup4 in /usr/local/lib/python3.9/dist-packages (4.11.2)\n",
            "Collecting beautifulsoup4\n",
            "  Downloading beautifulsoup4-4.12.2-py3-none-any.whl (142 kB)\n",
            "\u001b[2K     \u001b[90m━━━━━━━━━━━━━━━━━━━━━━━━━━━━━━━━━━━━━━━\u001b[0m \u001b[32m143.0/143.0 kB\u001b[0m \u001b[31m5.9 MB/s\u001b[0m eta \u001b[36m0:00:00\u001b[0m\n",
            "\u001b[?25hRequirement already satisfied: soupsieve>1.2 in /usr/local/lib/python3.9/dist-packages (from beautifulsoup4) (2.4.1)\n",
            "Installing collected packages: beautifulsoup4\n",
            "  Attempting uninstall: beautifulsoup4\n",
            "    Found existing installation: beautifulsoup4 4.11.2\n",
            "    Uninstalling beautifulsoup4-4.11.2:\n",
            "      Successfully uninstalled beautifulsoup4-4.11.2\n",
            "Successfully installed beautifulsoup4-4.12.2\n"
          ]
        }
      ],
      "source": [
        "from bs4 import BeautifulSoup\n",
        "!pip install --upgrade beautifulsoup4"
      ]
    },
    {
      "cell_type": "code",
      "execution_count": 2,
      "id": "82d539b7",
      "metadata": {
        "id": "82d539b7"
      },
      "outputs": [],
      "source": [
        "#importing libraries\n",
        "from bs4 import BeautifulSoup\n",
        "import requests\n",
        "import pandas as pd"
      ]
    },
    {
      "cell_type": "code",
      "execution_count": 3,
      "id": "f50505c6",
      "metadata": {
        "id": "f50505c6"
      },
      "outputs": [],
      "source": [
        "#copy the url . find url and store it in a variable\n",
        "url=\"https://en.wikipedia.org/wiki/List_of_European_cities_by_population_within_city_limits\""
      ]
    },
    {
      "cell_type": "code",
      "execution_count": 4,
      "id": "90c65217",
      "metadata": {
        "id": "90c65217",
        "outputId": "5dbed466-8e77-4b9a-f9cc-6c009728ed14",
        "colab": {
          "base_uri": "https://localhost:8080/"
        }
      },
      "outputs": [
        {
          "output_type": "execute_result",
          "data": {
            "text/plain": [
              "200"
            ]
          },
          "metadata": {},
          "execution_count": 4
        }
      ],
      "source": [
        "# download html with a get request\n",
        "headers = {'Accept-Language': 'en-US,en;q=0.8'}\n",
        "response = requests.get(url, headers = headers)\n",
        "response.status_code"
      ]
    },
    {
      "cell_type": "code",
      "execution_count": 6,
      "id": "634d2b97",
      "metadata": {
        "id": "634d2b97"
      },
      "outputs": [],
      "source": [
        "# parse html (create the 'soup')\n",
        "soup = BeautifulSoup(response.content, \"html.parser\")"
      ]
    },
    {
      "cell_type": "code",
      "execution_count": 7,
      "id": "459abe20",
      "metadata": {
        "id": "459abe20",
        "outputId": "f3eaad37-4285-499c-b9d2-59672b33cdc4",
        "colab": {
          "base_uri": "https://localhost:8080/",
          "height": 36
        }
      },
      "outputs": [
        {
          "output_type": "execute_result",
          "data": {
            "text/plain": [
              "'Istanbul'"
            ],
            "application/vnd.google.colaboratory.intrinsic+json": {
              "type": "string"
            }
          },
          "metadata": {},
          "execution_count": 7
        }
      ],
      "source": [
        "soup.select(\"td a\")[0].get(\"title\") # city name\n"
      ]
    },
    {
      "cell_type": "code",
      "execution_count": 8,
      "id": "fe6ad4d4",
      "metadata": {
        "id": "fe6ad4d4",
        "outputId": "aea079c3-bb33-4ed4-bd7d-9c8237f5059e",
        "colab": {
          "base_uri": "https://localhost:8080/"
        }
      },
      "outputs": [
        {
          "output_type": "execute_result",
          "data": {
            "text/plain": [
              "234"
            ]
          },
          "metadata": {},
          "execution_count": 8
        }
      ],
      "source": [
        "num_iter = len(soup.select(\"td a\"))\n",
        "num_iter"
      ]
    },
    {
      "cell_type": "code",
      "execution_count": 9,
      "id": "a28f62f7",
      "metadata": {
        "id": "a28f62f7",
        "outputId": "4b0e05cc-c34a-403e-a42b-fcf96990353f",
        "colab": {
          "base_uri": "https://localhost:8080/"
        }
      },
      "outputs": [
        {
          "output_type": "stream",
          "name": "stdout",
          "text": [
            "Istanbul\n",
            "[a]\n",
            "Turkey\n",
            "[b]\n",
            "\n",
            "41°00′49″N 28°57′18″E﻿ / ﻿41.013611°N 28.955°E﻿ / 41.013611; 28.955﻿ (1 Istanbul)\n",
            "[2]\n",
            "Moscow\n",
            "[c]\n",
            "Russia\n",
            "\n",
            "55°45′00″N 37°37′00″E﻿ / ﻿55.75°N 37.616667°E﻿ / 55.75; 37.616667﻿ (2 Moscow)\n",
            "[3]\n",
            "London\n",
            "United Kingdom\n",
            "\n",
            "51°30′26″N 0°07′39″W﻿ / ﻿51.507222°N 0.1275°W﻿ / 51.507222; -0.1275﻿ (3 London)\n",
            "[4]\n",
            "Saint Petersburg\n",
            "Russia\n",
            "\n",
            "59°57′N 30°18′E﻿ / ﻿59.95°N 30.3°E﻿ / 59.95; 30.3﻿ (4 Saint Petersburg)\n",
            "[3]\n",
            "Berlin\n",
            "Germany\n",
            "\n",
            "52°31′00″N 13°23′00″E﻿ / ﻿52.516667°N 13.383333°E﻿ / 52.516667; 13.383333﻿ (5 Berlin)\n",
            "[5]\n",
            "Madrid\n",
            "Spain\n",
            "\n",
            "40°23′00″N 3°43′00″W﻿ / ﻿40.383333°N 3.716667°W﻿ / 40.383333; -3.716667﻿ (6 Madrid)\n",
            "[6]\n",
            "Kyiv\n",
            "Ukraine\n",
            "\n",
            "50°27′00″N 30°31′24″E﻿ / ﻿50.45°N 30.523333°E﻿ / 50.45; 30.523333﻿ (7 Kiev)\n",
            "[7]\n",
            "Rome\n",
            "Italy\n",
            "\n",
            "41°54′N 12°30′E﻿ / ﻿41.9°N 12.5°E﻿ / 41.9; 12.5﻿ (8 Rome)\n",
            "[8]\n",
            "Baku\n",
            "[d]\n",
            "Azerbaijan\n",
            "\n",
            "40°24′N 49°54′E﻿ / ﻿40.4°N 49.9°E﻿ / 40.4; 49.9﻿ (Baku)\n",
            "[9]\n",
            "Bucharest\n",
            "Romania\n",
            "\n",
            "44°25′57″N 26°06′14″E﻿ / ﻿44.4325°N 26.103889°E﻿ / 44.4325; 26.103889﻿ (9 Bucharest)\n",
            "[10]\n",
            "Paris\n",
            "France\n",
            "\n",
            "48°51′24″N 2°21′03″E﻿ / ﻿48.8567°N 2.3508°E﻿ / 48.8567; 2.3508﻿ (10 Paris)\n",
            "[11]\n",
            "Minsk\n",
            "Belarus\n",
            "\n",
            "53°54′00″N 27°34′00″E﻿ / ﻿53.9°N 27.566667°E﻿ / 53.9; 27.566667﻿ (11 Minsk)\n",
            "[12]\n",
            "Vienna\n",
            "Austria\n",
            "\n",
            "48°12′00″N 16°22′00″E﻿ / ﻿48.2°N 16.366667°E﻿ / 48.2; 16.366667﻿ (12 Vienna)\n",
            "[13]\n",
            "Warsaw\n",
            "Poland\n",
            "\n",
            "52°14′00″N 21°01′00″E﻿ / ﻿52.233333°N 21.016667°E﻿ / 52.233333; 21.016667﻿ (13 Warsaw)\n",
            "[14]\n",
            "Hamburg\n",
            "Germany\n",
            "\n",
            "53°33′55″N 10°00′05″E﻿ / ﻿53.565278°N 10.001389°E﻿ / 53.565278; 10.001389﻿ (14 Hamburg)\n",
            "[15]\n",
            "Budapest\n",
            "Hungary\n",
            "\n",
            "47°29′33″N 19°03′05″E﻿ / ﻿47.4925°N 19.051389°E﻿ / 47.4925; 19.051389﻿ (15 Budapest)\n",
            "[16]\n",
            "Belgrade\n",
            "Serbia\n",
            "\n",
            "44°49′00″N 20°28′00″E﻿ / ﻿44.816667°N 20.466667°E﻿ / 44.816667; 20.466667﻿ (16 Belgrade)\n",
            "[17]\n",
            "Barcelona\n",
            "Spain\n",
            "\n",
            "41°23′00″N 2°11′00″E﻿ / ﻿41.383333°N 2.183333°E﻿ / 41.383333; 2.183333﻿ (17 Barcelona)\n",
            "[6]\n",
            "Munich\n",
            "Germany\n",
            "\n",
            "48°08′00″N 11°34′00″E﻿ / ﻿48.133333°N 11.566667°E﻿ / 48.133333; 11.566667﻿ (18 Munich)\n",
            "[15]\n",
            "Kharkiv\n",
            "Ukraine\n",
            "\n",
            "50°00′16″N 36°13′53″E﻿ / ﻿50.004444°N 36.231389°E﻿ / 50.004444; 36.231389﻿ (19 Kharkiv)\n",
            "[7]\n",
            "Milan\n",
            "Italy\n",
            "\n",
            "45°28′00″N 9°11′00″E﻿ / ﻿45.466667°N 9.183333°E﻿ / 45.466667; 9.183333﻿ (20 Milan)\n",
            "[8]\n",
            "Sofia\n",
            "Bulgaria\n",
            "\n",
            "42°42′N 23°20′E﻿ / ﻿42.7°N 23.33°E﻿ / 42.7; 23.33﻿ (21 Sofia)\n",
            "[18]\n",
            "Prague\n",
            "Czech Republic\n",
            "\n",
            "50°05′00″N 14°25′00″E﻿ / ﻿50.083333°N 14.416667°E﻿ / 50.083333; 14.416667﻿ (22 Prague)\n",
            "[19]\n",
            "Kazan\n",
            "Russia\n",
            "\n",
            "55°47′25″N 49°08′05″E﻿ / ﻿55.790278°N 49.134722°E﻿ / 55.790278; 49.134722﻿ (23 Kazan)\n",
            "[3]\n",
            "Nizhny Novgorod\n",
            "Russia\n",
            "\n",
            "56°19′37″N 44°00′27″E﻿ / ﻿56.326944°N 44.0075°E﻿ / 56.326944; 44.0075﻿ (24 Nizhny Novgorod)\n",
            "[3]\n",
            "Tbilisi\n",
            "[e]\n",
            "Georgia\n",
            "\n",
            "41°43′00″N 44°47′00″E﻿ / ﻿41.7166°N 44.7833°E﻿ / 41.7166; 44.7833﻿ (Tbilisi)\n",
            "[20]\n",
            "Birmingham\n",
            "United Kingdom\n",
            "\n",
            "52°28′59″N 1°53′37″W﻿ / ﻿52.483056°N 1.893611°W﻿ / 52.483056; -1.893611﻿ (25 Birmingham)\n",
            "[4]\n",
            "Samara\n",
            "Russia\n",
            "\n",
            "53°12′10″N 50°08′27″E﻿ / ﻿53.202778°N 50.140833°E﻿ / 53.202778; 50.140833﻿ (26 Samara)\n",
            "[3]\n",
            "Ufa\n",
            "Russia\n",
            "\n",
            "54°45′00″N 55°58′00″E﻿ / ﻿54.75°N 55.966667°E﻿ / 54.75; 55.966667﻿ (27 Ufa)\n",
            "[3]\n",
            "Rostov-on-Don\n",
            "Russia\n",
            "\n",
            "47°14′00″N 39°42′00″E﻿ / ﻿47.233333°N 39.7°E﻿ / 47.233333; 39.7﻿ (28 Rostov-on-Don)\n",
            "[3]\n",
            "Yerevan\n",
            "[f]\n",
            "Armenia\n",
            "\n",
            "40°10′52″N 44°30′36″E﻿ / ﻿40.181°N 44.51°E﻿ / 40.181; 44.51﻿ (Yerevan)\n",
            "[21]\n",
            "Cologne\n",
            "Germany\n",
            "\n",
            "50°56′11″N 6°57′10″E﻿ / ﻿50.936389°N 6.952778°E﻿ / 50.936389; 6.952778﻿ (29 Cologne)\n",
            "[15]\n",
            "Voronezh\n",
            "Russia\n",
            "\n",
            "51°40′18″N 39°12′38″E﻿ / ﻿51.671667°N 39.210556°E﻿ / 51.671667; 39.210556﻿ (30 Voronezh)\n",
            "[3]\n",
            "Perm\n",
            "Russia\n",
            "\n",
            "58°00′00″N 56°19′00″E﻿ / ﻿58°N 56.316667°E﻿ / 58; 56.316667﻿ (31 Perm)\n",
            "[3]\n",
            "Odesa\n",
            "Ukraine\n",
            "\n",
            "46°29′06″N 30°44′35″E﻿ / ﻿46.485°N 30.743°E﻿ / 46.485; 30.743﻿ (32 Odesa)\n",
            "[7]\n",
            "Volgograd\n",
            "Russia\n",
            "\n",
            "48°42′00″N 44°31′00″E﻿ / ﻿48.7°N 44.516667°E﻿ / 48.7; 44.516667﻿ (33 Volgograd)\n",
            "[3]\n",
            "Capitals\n",
            "Africa\n",
            "Americas\n",
            "North\n",
            "Latin\n",
            "Central\n",
            "South\n",
            "Asia\n",
            "Arab world\n",
            "ASEAN\n",
            "Arabia\n",
            "East, South and Southeast Asia\n",
            "Europe\n",
            "European Union\n",
            "Nordic\n",
            "Americas\n",
            "North\n",
            "South\n",
            "West Indies\n",
            "Europe\n",
            "European Union\n",
            "Asia\n",
            "Africa\n",
            "Middle East\n",
            "Oceania\n",
            "Asia\n",
            "Africa\n",
            "Europe\n",
            "European Union\n",
            "Nordic\n",
            "North America\n",
            "Oceania\n",
            "Transborder\n",
            "World\n",
            "Europe\n",
            "Arcology\n",
            "Ecumenopolis\n",
            "Global city\n",
            "Megacity\n",
            "Megalopolis\n",
            "Conurbation\n",
            "Satellite city\n",
            "population\n",
            "Primate city\n",
            "Secondary city\n",
            "Cities portal\n",
            "\n",
            "World portal\n"
          ]
        }
      ],
      "source": [
        "for i in range(num_iter):\n",
        "    print(soup.select(\"td a\")[i].get_text())"
      ]
    },
    {
      "cell_type": "code",
      "execution_count": 11,
      "id": "370b4458",
      "metadata": {
        "id": "370b4458"
      },
      "outputs": [],
      "source": [
        "#soup.select(\"table\")"
      ]
    },
    {
      "cell_type": "code",
      "execution_count": 12,
      "id": "7b1221c6",
      "metadata": {
        "id": "7b1221c6",
        "outputId": "6efd115a-2e80-4168-de7f-68ca0a3dc433",
        "colab": {
          "base_uri": "https://localhost:8080/",
          "height": 36
        }
      },
      "outputs": [
        {
          "output_type": "execute_result",
          "data": {
            "text/plain": [
              "''"
            ],
            "application/vnd.google.colaboratory.intrinsic+json": {
              "type": "string"
            }
          },
          "metadata": {},
          "execution_count": 12
        }
      ],
      "source": [
        "soup.select(\"td a\")[4].get_text()"
      ]
    },
    {
      "cell_type": "code",
      "execution_count": 14,
      "id": "ec67eefe",
      "metadata": {
        "id": "ec67eefe",
        "outputId": "939ea757-f170-4880-8e5d-46d7b0c0678b",
        "colab": {
          "base_uri": "https://localhost:8080/",
          "height": 206
        }
      },
      "outputs": [
        {
          "output_type": "execute_result",
          "data": {
            "text/plain": [
              "               city         country  population   longititude      latitude\n",
              "0          Istanbul          Turkey  15,907,951  [28°57′18″E]  [41°00′49″N]\n",
              "1            Moscow          Russia  13,097,539  [37°37′00″E]  [55°45′00″N]\n",
              "2            London  United Kingdom   8,799,800   [0°07′39″W]  [51°30′26″N]\n",
              "3  Saint Petersburg          Russia   8,173,941     [30°18′E]     [59°57′N]\n",
              "4            Berlin         Germany   5,598,486  [13°23′00″E]  [52°31′00″N]"
            ],
            "text/html": [
              "\n",
              "  <div id=\"df-e8df5cfb-d160-4057-915f-2b25dbfee819\">\n",
              "    <div class=\"colab-df-container\">\n",
              "      <div>\n",
              "<style scoped>\n",
              "    .dataframe tbody tr th:only-of-type {\n",
              "        vertical-align: middle;\n",
              "    }\n",
              "\n",
              "    .dataframe tbody tr th {\n",
              "        vertical-align: top;\n",
              "    }\n",
              "\n",
              "    .dataframe thead th {\n",
              "        text-align: right;\n",
              "    }\n",
              "</style>\n",
              "<table border=\"1\" class=\"dataframe\">\n",
              "  <thead>\n",
              "    <tr style=\"text-align: right;\">\n",
              "      <th></th>\n",
              "      <th>city</th>\n",
              "      <th>country</th>\n",
              "      <th>population</th>\n",
              "      <th>longititude</th>\n",
              "      <th>latitude</th>\n",
              "    </tr>\n",
              "  </thead>\n",
              "  <tbody>\n",
              "    <tr>\n",
              "      <th>0</th>\n",
              "      <td>Istanbul</td>\n",
              "      <td>Turkey</td>\n",
              "      <td>15,907,951</td>\n",
              "      <td>[28°57′18″E]</td>\n",
              "      <td>[41°00′49″N]</td>\n",
              "    </tr>\n",
              "    <tr>\n",
              "      <th>1</th>\n",
              "      <td>Moscow</td>\n",
              "      <td>Russia</td>\n",
              "      <td>13,097,539</td>\n",
              "      <td>[37°37′00″E]</td>\n",
              "      <td>[55°45′00″N]</td>\n",
              "    </tr>\n",
              "    <tr>\n",
              "      <th>2</th>\n",
              "      <td>London</td>\n",
              "      <td>United Kingdom</td>\n",
              "      <td>8,799,800</td>\n",
              "      <td>[0°07′39″W]</td>\n",
              "      <td>[51°30′26″N]</td>\n",
              "    </tr>\n",
              "    <tr>\n",
              "      <th>3</th>\n",
              "      <td>Saint Petersburg</td>\n",
              "      <td>Russia</td>\n",
              "      <td>8,173,941</td>\n",
              "      <td>[30°18′E]</td>\n",
              "      <td>[59°57′N]</td>\n",
              "    </tr>\n",
              "    <tr>\n",
              "      <th>4</th>\n",
              "      <td>Berlin</td>\n",
              "      <td>Germany</td>\n",
              "      <td>5,598,486</td>\n",
              "      <td>[13°23′00″E]</td>\n",
              "      <td>[52°31′00″N]</td>\n",
              "    </tr>\n",
              "  </tbody>\n",
              "</table>\n",
              "</div>\n",
              "      <button class=\"colab-df-convert\" onclick=\"convertToInteractive('df-e8df5cfb-d160-4057-915f-2b25dbfee819')\"\n",
              "              title=\"Convert this dataframe to an interactive table.\"\n",
              "              style=\"display:none;\">\n",
              "        \n",
              "  <svg xmlns=\"http://www.w3.org/2000/svg\" height=\"24px\"viewBox=\"0 0 24 24\"\n",
              "       width=\"24px\">\n",
              "    <path d=\"M0 0h24v24H0V0z\" fill=\"none\"/>\n",
              "    <path d=\"M18.56 5.44l.94 2.06.94-2.06 2.06-.94-2.06-.94-.94-2.06-.94 2.06-2.06.94zm-11 1L8.5 8.5l.94-2.06 2.06-.94-2.06-.94L8.5 2.5l-.94 2.06-2.06.94zm10 10l.94 2.06.94-2.06 2.06-.94-2.06-.94-.94-2.06-.94 2.06-2.06.94z\"/><path d=\"M17.41 7.96l-1.37-1.37c-.4-.4-.92-.59-1.43-.59-.52 0-1.04.2-1.43.59L10.3 9.45l-7.72 7.72c-.78.78-.78 2.05 0 2.83L4 21.41c.39.39.9.59 1.41.59.51 0 1.02-.2 1.41-.59l7.78-7.78 2.81-2.81c.8-.78.8-2.07 0-2.86zM5.41 20L4 18.59l7.72-7.72 1.47 1.35L5.41 20z\"/>\n",
              "  </svg>\n",
              "      </button>\n",
              "      \n",
              "  <style>\n",
              "    .colab-df-container {\n",
              "      display:flex;\n",
              "      flex-wrap:wrap;\n",
              "      gap: 12px;\n",
              "    }\n",
              "\n",
              "    .colab-df-convert {\n",
              "      background-color: #E8F0FE;\n",
              "      border: none;\n",
              "      border-radius: 50%;\n",
              "      cursor: pointer;\n",
              "      display: none;\n",
              "      fill: #1967D2;\n",
              "      height: 32px;\n",
              "      padding: 0 0 0 0;\n",
              "      width: 32px;\n",
              "    }\n",
              "\n",
              "    .colab-df-convert:hover {\n",
              "      background-color: #E2EBFA;\n",
              "      box-shadow: 0px 1px 2px rgba(60, 64, 67, 0.3), 0px 1px 3px 1px rgba(60, 64, 67, 0.15);\n",
              "      fill: #174EA6;\n",
              "    }\n",
              "\n",
              "    [theme=dark] .colab-df-convert {\n",
              "      background-color: #3B4455;\n",
              "      fill: #D2E3FC;\n",
              "    }\n",
              "\n",
              "    [theme=dark] .colab-df-convert:hover {\n",
              "      background-color: #434B5C;\n",
              "      box-shadow: 0px 1px 3px 1px rgba(0, 0, 0, 0.15);\n",
              "      filter: drop-shadow(0px 1px 2px rgba(0, 0, 0, 0.3));\n",
              "      fill: #FFFFFF;\n",
              "    }\n",
              "  </style>\n",
              "\n",
              "      <script>\n",
              "        const buttonEl =\n",
              "          document.querySelector('#df-e8df5cfb-d160-4057-915f-2b25dbfee819 button.colab-df-convert');\n",
              "        buttonEl.style.display =\n",
              "          google.colab.kernel.accessAllowed ? 'block' : 'none';\n",
              "\n",
              "        async function convertToInteractive(key) {\n",
              "          const element = document.querySelector('#df-e8df5cfb-d160-4057-915f-2b25dbfee819');\n",
              "          const dataTable =\n",
              "            await google.colab.kernel.invokeFunction('convertToInteractive',\n",
              "                                                     [key], {});\n",
              "          if (!dataTable) return;\n",
              "\n",
              "          const docLinkHtml = 'Like what you see? Visit the ' +\n",
              "            '<a target=\"_blank\" href=https://colab.research.google.com/notebooks/data_table.ipynb>data table notebook</a>'\n",
              "            + ' to learn more about interactive tables.';\n",
              "          element.innerHTML = '';\n",
              "          dataTable['output_type'] = 'display_data';\n",
              "          await google.colab.output.renderOutput(dataTable, element);\n",
              "          const docLink = document.createElement('div');\n",
              "          docLink.innerHTML = docLinkHtml;\n",
              "          element.appendChild(docLink);\n",
              "        }\n",
              "      </script>\n",
              "    </div>\n",
              "  </div>\n",
              "  "
            ]
          },
          "metadata": {},
          "execution_count": 14
        }
      ],
      "source": [
        "# created a dataframe of european cities \n",
        "table =soup.find(lambda tag: tag.name=='table')# find the table \n",
        "rows = table.findAll(lambda tag: tag.name=='a' and tag.has_attr(\"title\"))# find rows wth tag a in table\n",
        "# rows contains links of cities and corresponding countries such that links of cities in odd and links of countries\n",
        "# in even positions respectively\n",
        "#type(rows)#.text\n",
        "# create a empty list city\n",
        "cities=[] \n",
        "# append the cities stored in odd positions\n",
        "for i in range(0,len(rows),2):\n",
        "    cities.append(rows[i].text)\n",
        "    \n",
        "# create a empty list country   \n",
        "countries=[]\n",
        "# append the countries stored in odd positions\n",
        "for i in range(1,len(rows),2):\n",
        "    countries.append(rows[i].text)\n",
        "\n",
        "#span tag contains population and european population(mostly blanks)\n",
        "#european poulation has parent as td with attribute align\n",
        "\n",
        "#table =soup.find(lambda tag: tag.name=='table')# find the table \n",
        "rows = table.findAll(lambda tag: tag.name=='span' and tag.has_attr(\"data-sort-value\")and not tag.has_attr(\"style\") and not tag.parent.has_attr(\"align\"))\n",
        "population=[] \n",
        "# append the cities stored in odd positions\n",
        "for i in range(0,len(rows),1):\n",
        "    population.append(rows[i].text)\n",
        "   \n",
        "#table =soup.find(lambda tag: tag.name=='table')# find the table \n",
        "long = table.findAll('span' ,class_=\"longitude\")\n",
        "lat=table.findAll('span' ,class_=\"latitude\")\n",
        "\n",
        "euro_cities_df = pd.DataFrame(list(zip(cities,countries,population,long,lat)),columns=[\"city\",\"country\",\"population\",\"longititude\",\"latitude\"])\n",
        "\n",
        "euro_cities_df.head() "
      ]
    }
  ],
  "metadata": {
    "kernelspec": {
      "display_name": "Python 3 (ipykernel)",
      "language": "python",
      "name": "python3"
    },
    "language_info": {
      "codemirror_mode": {
        "name": "ipython",
        "version": 3
      },
      "file_extension": ".py",
      "mimetype": "text/x-python",
      "name": "python",
      "nbconvert_exporter": "python",
      "pygments_lexer": "ipython3",
      "version": "3.9.13"
    },
    "colab": {
      "provenance": [],
      "include_colab_link": true
    }
  },
  "nbformat": 4,
  "nbformat_minor": 5
}
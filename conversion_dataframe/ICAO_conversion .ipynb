{
 "cells": [
  {
   "cell_type": "code",
   "execution_count": 1,
   "id": "450372ea",
   "metadata": {},
   "outputs": [],
   "source": [
    "import requests\n",
    "import json\n",
    "import pandas as pd\n",
    "import re\n",
    "from IPython.core import error"
   ]
  },
  {
   "cell_type": "code",
   "execution_count": 2,
   "id": "1c98a398",
   "metadata": {},
   "outputs": [
    {
     "data": {
      "text/html": [
       "<div>\n",
       "<style scoped>\n",
       "    .dataframe tbody tr th:only-of-type {\n",
       "        vertical-align: middle;\n",
       "    }\n",
       "\n",
       "    .dataframe tbody tr th {\n",
       "        vertical-align: top;\n",
       "    }\n",
       "\n",
       "    .dataframe thead th {\n",
       "        text-align: right;\n",
       "    }\n",
       "</style>\n",
       "<table border=\"1\" class=\"dataframe\">\n",
       "  <thead>\n",
       "    <tr style=\"text-align: right;\">\n",
       "      <th></th>\n",
       "      <th>icao</th>\n",
       "      <th>city</th>\n",
       "      <th>airport_name</th>\n",
       "    </tr>\n",
       "  </thead>\n",
       "  <tbody>\n",
       "    <tr>\n",
       "      <th>0</th>\n",
       "      <td>EDDB</td>\n",
       "      <td>Berlin</td>\n",
       "      <td>Berlin Schonefeld Airport</td>\n",
       "    </tr>\n",
       "    <tr>\n",
       "      <th>1</th>\n",
       "      <td>EDDH</td>\n",
       "      <td>Hamburg</td>\n",
       "      <td>Hamburg Airport</td>\n",
       "    </tr>\n",
       "    <tr>\n",
       "      <th>2</th>\n",
       "      <td>EGLL</td>\n",
       "      <td>London</td>\n",
       "      <td>London Heathrow Airport</td>\n",
       "    </tr>\n",
       "    <tr>\n",
       "      <th>3</th>\n",
       "      <td>EGCC</td>\n",
       "      <td>Manchester</td>\n",
       "      <td>Manchester Airport</td>\n",
       "    </tr>\n",
       "    <tr>\n",
       "      <th>4</th>\n",
       "      <td>LEBL</td>\n",
       "      <td>Barcelona</td>\n",
       "      <td>Barcelona El Prat Airport</td>\n",
       "    </tr>\n",
       "  </tbody>\n",
       "</table>\n",
       "</div>"
      ],
      "text/plain": [
       "   icao        city               airport_name\n",
       "0  EDDB      Berlin  Berlin Schonefeld Airport\n",
       "1  EDDH     Hamburg            Hamburg Airport\n",
       "2  EGLL      London    London Heathrow Airport\n",
       "3  EGCC  Manchester         Manchester Airport\n",
       "4  LEBL   Barcelona  Barcelona El Prat Airport"
      ]
     },
     "execution_count": 2,
     "metadata": {},
     "output_type": "execute_result"
    }
   ],
   "source": [
    "icao = [\"EDDB\", \"EDDH\", \"EGLL\", \"EGCC\", \"LEBL\"]\n",
    "city = ['Berlin', 'Hamburg', 'London', 'Manchester', 'Barcelona']\n",
    "airport_name = [\"Berlin Schonefeld Airport\", \"Hamburg Airport\", \"London Heathrow Airport\", \"Manchester Airport\", \"Barcelona El Prat Airport\" ]\n",
    "\n",
    "icao_conversion_df = pd.DataFrame({'icao' : icao,\n",
    "                                'city' : city,\n",
    "                                'airport_name' : airport_name})\n",
    "\n",
    "icao_conversion_df"
   ]
  },
  {
   "cell_type": "code",
   "execution_count": 5,
   "id": "989c600f",
   "metadata": {},
   "outputs": [],
   "source": [
    "schema=\"project_5_database\"   # name of the database you want to use here\n",
    "host=\"wbs-project5-db.cd7fypqniwr8.eu-west-2.rds.amazonaws.com\"        # to connect to your local server\n",
    "user=\"admin\"\n",
    "password=\"ENTER YOUR PASSWORD\" # your password!!!!\n",
    "port=3306\n",
    "con = f'mysql+pymysql://{user}:{password}@{host}:{port}/{schema}'"
   ]
  },
  {
   "cell_type": "code",
   "execution_count": 6,
   "id": "a995b3e8",
   "metadata": {},
   "outputs": [
    {
     "data": {
      "text/plain": [
       "5"
      ]
     },
     "execution_count": 6,
     "metadata": {},
     "output_type": "execute_result"
    }
   ],
   "source": [
    "icao_conversion_df.to_sql('icao_conversion',         # 'iss_logs'-> table name;\n",
    "              if_exists='append', # if_exists -> will create new table if doesn't exist, otherwise, 'append' - will append data to existing table;\n",
    "              con=con,            # con-> connection string;\n",
    "              index=False) "
   ]
  }
 ],
 "metadata": {
  "kernelspec": {
   "display_name": "Python 3 (ipykernel)",
   "language": "python",
   "name": "python3"
  },
  "language_info": {
   "codemirror_mode": {
    "name": "ipython",
    "version": 3
   },
   "file_extension": ".py",
   "mimetype": "text/x-python",
   "name": "python",
   "nbconvert_exporter": "python",
   "pygments_lexer": "ipython3",
   "version": "3.9.13"
  }
 },
 "nbformat": 4,
 "nbformat_minor": 5
}
